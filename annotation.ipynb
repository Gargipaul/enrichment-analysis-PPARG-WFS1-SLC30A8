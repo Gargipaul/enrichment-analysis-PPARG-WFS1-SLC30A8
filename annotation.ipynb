{
 "cells": [
  {
   "cell_type": "code",
   "execution_count": 2,
   "id": "99c51a0e",
   "metadata": {},
   "outputs": [
    {
     "name": "stdout",
     "output_type": "stream",
     "text": [
      "<class 'pandas.core.frame.DataFrame'>\n",
      "RangeIndex: 236 entries, 0 to 235\n",
      "Data columns (total 3 columns):\n",
      " #   Column      Non-Null Count  Dtype \n",
      "---  ------      --------------  ----- \n",
      " 0   SNP         236 non-null    object\n",
      " 1   CHROMOSOME  236 non-null    int64 \n",
      " 2   POSITION    236 non-null    int64 \n",
      "dtypes: int64(2), object(1)\n",
      "memory usage: 5.7+ KB\n",
      "None\n"
     ]
    }
   ],
   "source": [
    "# Summary\n",
    "print(gwas_df.info())"
   ]
  },
  {
   "cell_type": "code",
   "execution_count": 3,
   "id": "88032f8a",
   "metadata": {},
   "outputs": [
    {
     "name": "stdout",
     "output_type": "stream",
     "text": [
      "Index(['SNP', 'CHROMOSOME', 'POSITION'], dtype='object')\n"
     ]
    }
   ],
   "source": [
    "print(gwas_df.columns[:10])"
   ]
  },
  {
   "cell_type": "code",
   "execution_count": 4,
   "id": "78bdedd4",
   "metadata": {},
   "outputs": [
    {
     "data": {
      "text/html": [
       "<div>\n",
       "<style scoped>\n",
       "    .dataframe tbody tr th:only-of-type {\n",
       "        vertical-align: middle;\n",
       "    }\n",
       "\n",
       "    .dataframe tbody tr th {\n",
       "        vertical-align: top;\n",
       "    }\n",
       "\n",
       "    .dataframe thead th {\n",
       "        text-align: right;\n",
       "    }\n",
       "</style>\n",
       "<table border=\"1\" class=\"dataframe\">\n",
       "  <thead>\n",
       "    <tr style=\"text-align: right;\">\n",
       "      <th></th>\n",
       "      <th>SNP</th>\n",
       "      <th>CHROMOSOME</th>\n",
       "      <th>POSITION</th>\n",
       "      <th>RISK_ALLELE</th>\n",
       "      <th>OTHER_ALLELE</th>\n",
       "      <th>P_VALUE</th>\n",
       "      <th>OR</th>\n",
       "      <th>OR_95L</th>\n",
       "      <th>OR_95U</th>\n",
       "      <th>N_CASES</th>\n",
       "      <th>N_CONTROLS</th>\n",
       "    </tr>\n",
       "  </thead>\n",
       "  <tbody>\n",
       "    <tr>\n",
       "      <th>0</th>\n",
       "      <td>rs12565286</td>\n",
       "      <td>1</td>\n",
       "      <td>711153</td>\n",
       "      <td>G</td>\n",
       "      <td>C</td>\n",
       "      <td>0.16</td>\n",
       "      <td>1.11</td>\n",
       "      <td>0.96</td>\n",
       "      <td>1.30</td>\n",
       "      <td>4040</td>\n",
       "      <td>17875</td>\n",
       "    </tr>\n",
       "    <tr>\n",
       "      <th>1</th>\n",
       "      <td>rs3094315</td>\n",
       "      <td>1</td>\n",
       "      <td>742429</td>\n",
       "      <td>A</td>\n",
       "      <td>G</td>\n",
       "      <td>0.82</td>\n",
       "      <td>1.01</td>\n",
       "      <td>0.95</td>\n",
       "      <td>1.07</td>\n",
       "      <td>6673</td>\n",
       "      <td>25149</td>\n",
       "    </tr>\n",
       "    <tr>\n",
       "      <th>2</th>\n",
       "      <td>rs2905035</td>\n",
       "      <td>1</td>\n",
       "      <td>765522</td>\n",
       "      <td>G</td>\n",
       "      <td>A</td>\n",
       "      <td>0.36</td>\n",
       "      <td>1.04</td>\n",
       "      <td>0.96</td>\n",
       "      <td>1.11</td>\n",
       "      <td>4984</td>\n",
       "      <td>23960</td>\n",
       "    </tr>\n",
       "    <tr>\n",
       "      <th>3</th>\n",
       "      <td>rs2980319</td>\n",
       "      <td>1</td>\n",
       "      <td>766985</td>\n",
       "      <td>T</td>\n",
       "      <td>A</td>\n",
       "      <td>0.39</td>\n",
       "      <td>1.03</td>\n",
       "      <td>0.97</td>\n",
       "      <td>1.09</td>\n",
       "      <td>7575</td>\n",
       "      <td>27012</td>\n",
       "    </tr>\n",
       "    <tr>\n",
       "      <th>4</th>\n",
       "      <td>rs4040617</td>\n",
       "      <td>1</td>\n",
       "      <td>769185</td>\n",
       "      <td>A</td>\n",
       "      <td>G</td>\n",
       "      <td>0.50</td>\n",
       "      <td>1.03</td>\n",
       "      <td>0.95</td>\n",
       "      <td>1.11</td>\n",
       "      <td>4984</td>\n",
       "      <td>23960</td>\n",
       "    </tr>\n",
       "  </tbody>\n",
       "</table>\n",
       "</div>"
      ],
      "text/plain": [
       "          SNP  CHROMOSOME  POSITION RISK_ALLELE OTHER_ALLELE  P_VALUE    OR  \\\n",
       "0  rs12565286           1    711153           G            C     0.16  1.11   \n",
       "1   rs3094315           1    742429           A            G     0.82  1.01   \n",
       "2   rs2905035           1    765522           G            A     0.36  1.04   \n",
       "3   rs2980319           1    766985           T            A     0.39  1.03   \n",
       "4   rs4040617           1    769185           A            G     0.50  1.03   \n",
       "\n",
       "   OR_95L  OR_95U  N_CASES  N_CONTROLS  \n",
       "0    0.96    1.30     4040       17875  \n",
       "1    0.95    1.07     6673       25149  \n",
       "2    0.96    1.11     4984       23960  \n",
       "3    0.97    1.09     7575       27012  \n",
       "4    0.95    1.11     4984       23960  "
      ]
     },
     "execution_count": 4,
     "metadata": {},
     "output_type": "execute_result"
    }
   ],
   "source": [
    "diagram_df = pd.read_csv(r\"C:\\Users\\gargi\\Desktop\\Publication\\Transcriptomic_and_Epigenomic_Features\\DIAGRAMv3.2012DEC17.csv\")\n",
    "\n",
    "diagram_df.head(5)"
   ]
  },
  {
   "cell_type": "code",
   "execution_count": 5,
   "id": "867fec03",
   "metadata": {},
   "outputs": [
    {
     "name": "stdout",
     "output_type": "stream",
     "text": [
      "<class 'pandas.core.frame.DataFrame'>\n",
      "RangeIndex: 2473441 entries, 0 to 2473440\n",
      "Data columns (total 11 columns):\n",
      " #   Column        Dtype  \n",
      "---  ------        -----  \n",
      " 0   SNP           object \n",
      " 1   CHROMOSOME    int64  \n",
      " 2   POSITION      int64  \n",
      " 3   RISK_ALLELE   object \n",
      " 4   OTHER_ALLELE  object \n",
      " 5   P_VALUE       float64\n",
      " 6   OR            float64\n",
      " 7   OR_95L        float64\n",
      " 8   OR_95U        float64\n",
      " 9   N_CASES       int64  \n",
      " 10  N_CONTROLS    int64  \n",
      "dtypes: float64(4), int64(4), object(3)\n",
      "memory usage: 207.6+ MB\n",
      "None\n"
     ]
    }
   ],
   "source": [
    "# Summary\n",
    "print(diagram_df.info())"
   ]
  },
  {
   "cell_type": "code",
   "execution_count": 6,
   "id": "c8e33983",
   "metadata": {},
   "outputs": [
    {
     "name": "stdout",
     "output_type": "stream",
     "text": [
      "Index(['SNP', 'CHROMOSOME', 'POSITION', 'RISK_ALLELE', 'OTHER_ALLELE',\n",
      "       'P_VALUE', 'OR', 'OR_95L', 'OR_95U', 'N_CASES'],\n",
      "      dtype='object')\n"
     ]
    }
   ],
   "source": [
    "print(diagram_df.columns[:10])"
   ]
  },
  {
   "cell_type": "code",
   "execution_count": 7,
   "id": "97b72c03",
   "metadata": {},
   "outputs": [
    {
     "data": {
      "text/html": [
       "<div>\n",
       "<style scoped>\n",
       "    .dataframe tbody tr th:only-of-type {\n",
       "        vertical-align: middle;\n",
       "    }\n",
       "\n",
       "    .dataframe tbody tr th {\n",
       "        vertical-align: top;\n",
       "    }\n",
       "\n",
       "    .dataframe thead th {\n",
       "        text-align: right;\n",
       "    }\n",
       "</style>\n",
       "<table border=\"1\" class=\"dataframe\">\n",
       "  <thead>\n",
       "    <tr style=\"text-align: right;\">\n",
       "      <th></th>\n",
       "      <th>rsID</th>\n",
       "      <th>Consequence</th>\n",
       "      <th>IMPACT</th>\n",
       "      <th>Gene</th>\n",
       "      <th>SIFT</th>\n",
       "      <th>PolyPhen</th>\n",
       "      <th>PHENOTYPES</th>\n",
       "    </tr>\n",
       "  </thead>\n",
       "  <tbody>\n",
       "    <tr>\n",
       "      <th>0</th>\n",
       "      <td>#Uploaded_variation</td>\n",
       "      <td>Consequence</td>\n",
       "      <td>IMPACT</td>\n",
       "      <td>SYMBOL</td>\n",
       "      <td>DOMAINS</td>\n",
       "      <td>miRNA</td>\n",
       "      <td>ALFA_Latin_American_2_AN</td>\n",
       "    </tr>\n",
       "    <tr>\n",
       "      <th>1</th>\n",
       "      <td>rs1801282</td>\n",
       "      <td>missense_variant</td>\n",
       "      <td>MODERATE</td>\n",
       "      <td>PPARG</td>\n",
       "      <td>AFDB-ENSP_mappings:AF-P37231-F1</td>\n",
       "      <td>-</td>\n",
       "      <td>850</td>\n",
       "    </tr>\n",
       "    <tr>\n",
       "      <th>2</th>\n",
       "      <td>rs1801282</td>\n",
       "      <td>missense_variant</td>\n",
       "      <td>MODERATE</td>\n",
       "      <td>PPARG</td>\n",
       "      <td>AFDB-ENSP_mappings:AF-P37231-F1</td>\n",
       "      <td>-</td>\n",
       "      <td>850</td>\n",
       "    </tr>\n",
       "    <tr>\n",
       "      <th>3</th>\n",
       "      <td>rs1801282</td>\n",
       "      <td>missense_variant,NMD_transcript_variant</td>\n",
       "      <td>MODERATE</td>\n",
       "      <td>PPARG</td>\n",
       "      <td>AFDB-ENSP_mappings:AF-E9PFV3-F1</td>\n",
       "      <td>-</td>\n",
       "      <td>850</td>\n",
       "    </tr>\n",
       "    <tr>\n",
       "      <th>4</th>\n",
       "      <td>rs1801282</td>\n",
       "      <td>missense_variant,NMD_transcript_variant</td>\n",
       "      <td>MODERATE</td>\n",
       "      <td>PPARG</td>\n",
       "      <td>AFDB-ENSP_mappings:AF-E9PFV3-F1</td>\n",
       "      <td>-</td>\n",
       "      <td>850</td>\n",
       "    </tr>\n",
       "  </tbody>\n",
       "</table>\n",
       "</div>"
      ],
      "text/plain": [
       "                  rsID                              Consequence    IMPACT  \\\n",
       "0  #Uploaded_variation                              Consequence    IMPACT   \n",
       "1            rs1801282                         missense_variant  MODERATE   \n",
       "2            rs1801282                         missense_variant  MODERATE   \n",
       "3            rs1801282  missense_variant,NMD_transcript_variant  MODERATE   \n",
       "4            rs1801282  missense_variant,NMD_transcript_variant  MODERATE   \n",
       "\n",
       "     Gene                             SIFT PolyPhen                PHENOTYPES  \n",
       "0  SYMBOL                          DOMAINS    miRNA  ALFA_Latin_American_2_AN  \n",
       "1   PPARG  AFDB-ENSP_mappings:AF-P37231-F1        -                       850  \n",
       "2   PPARG  AFDB-ENSP_mappings:AF-P37231-F1        -                       850  \n",
       "3   PPARG  AFDB-ENSP_mappings:AF-E9PFV3-F1        -                       850  \n",
       "4   PPARG  AFDB-ENSP_mappings:AF-E9PFV3-F1        -                       850  "
      ]
     },
     "execution_count": 7,
     "metadata": {},
     "output_type": "execute_result"
    }
   ],
   "source": [
    "annotation_df = pd.read_csv(r\"C:\\Users\\gargi\\Desktop\\Publication\\Transcriptomic_and_Epigenomic_Features\\bwMtrPidtktV3hgO.csv\")  \n",
    "\n",
    "annotation_df.head()"
   ]
  },
  {
   "cell_type": "code",
   "execution_count": 8,
   "id": "5fb88534",
   "metadata": {},
   "outputs": [
    {
     "name": "stdout",
     "output_type": "stream",
     "text": [
      "<class 'pandas.core.frame.DataFrame'>\n",
      "RangeIndex: 293 entries, 0 to 292\n",
      "Data columns (total 7 columns):\n",
      " #   Column       Non-Null Count  Dtype \n",
      "---  ------       --------------  ----- \n",
      " 0   rsID         293 non-null    object\n",
      " 1   Consequence  293 non-null    object\n",
      " 2   IMPACT       293 non-null    object\n",
      " 3   Gene         293 non-null    object\n",
      " 4   SIFT         293 non-null    object\n",
      " 5   PolyPhen     293 non-null    object\n",
      " 6   PHENOTYPES   293 non-null    object\n",
      "dtypes: object(7)\n",
      "memory usage: 16.1+ KB\n",
      "None\n"
     ]
    }
   ],
   "source": [
    "# Summary\n",
    "print(annotation_df.info())"
   ]
  },
  {
   "cell_type": "code",
   "execution_count": 9,
   "id": "ae4e1b03",
   "metadata": {},
   "outputs": [
    {
     "name": "stdout",
     "output_type": "stream",
     "text": [
      "Index(['rsID', 'Consequence', 'IMPACT', 'Gene', 'SIFT', 'PolyPhen',\n",
      "       'PHENOTYPES'],\n",
      "      dtype='object')\n"
     ]
    }
   ],
   "source": [
    "print(annotation_df.columns[:10])"
   ]
  },
  {
   "cell_type": "markdown",
   "id": "e684eec8",
   "metadata": {},
   "source": [
    "## Standardize column names"
   ]
  },
  {
   "cell_type": "code",
   "execution_count": 10,
   "id": "01a9eef6",
   "metadata": {},
   "outputs": [],
   "source": [
    "gwas_df.rename(columns={\"SNP\": \"rsID\"}, inplace=True)\n",
    "diagram_df.rename(columns={\"SNP\": \"rsID\"}, inplace=True)\n",
    "# annotation_df already has 'rsID' — no need to rename"
   ]
  },
  {
   "cell_type": "markdown",
   "id": "bf35043d",
   "metadata": {},
   "source": [
    "## Merge GWAS SNPs with DIAGRAM GWAS data"
   ]
  },
  {
   "cell_type": "code",
   "execution_count": 11,
   "id": "e8911a86",
   "metadata": {},
   "outputs": [],
   "source": [
    "merged_1 = pd.merge(gwas_df, diagram_df, on=\"rsID\", how=\"inner\")"
   ]
  },
  {
   "cell_type": "markdown",
   "id": "0e3db34e",
   "metadata": {},
   "source": [
    "## Merge with functional annotations"
   ]
  },
  {
   "cell_type": "code",
   "execution_count": 12,
   "id": "00c66831",
   "metadata": {},
   "outputs": [],
   "source": [
    "merged_final = pd.merge(merged_1, annotation_df, on=\"rsID\", how=\"inner\")\n"
   ]
  },
  {
   "cell_type": "markdown",
   "id": "3dec3bd4",
   "metadata": {},
   "source": [
    "## Drop duplicates"
   ]
  },
  {
   "cell_type": "code",
   "execution_count": 13,
   "id": "79f8abcf",
   "metadata": {},
   "outputs": [],
   "source": [
    "merged_final.drop_duplicates(inplace=True)"
   ]
  },
  {
   "cell_type": "markdown",
   "id": "2ba58bca",
   "metadata": {},
   "source": [
    "## Save and inspect"
   ]
  },
  {
   "cell_type": "code",
   "execution_count": 15,
   "id": "c1e4c4ed",
   "metadata": {},
   "outputs": [
    {
     "name": "stdout",
     "output_type": "stream",
     "text": [
      "Merged data shape: (255, 19)\n",
      "         rsID                              Consequence    IMPACT       P_VALUE\n",
      "0   rs6771792                                        -         -  3.100000e-08\n",
      "1  rs11709077                                        -         -  1.100000e-09\n",
      "2   rs1801282                         missense_variant  MODERATE  5.000000e-09\n",
      "4   rs1801282  missense_variant,NMD_transcript_variant  MODERATE  5.000000e-09\n",
      "6   rs1801282                         missense_variant  MODERATE  5.000000e-09\n"
     ]
    }
   ],
   "source": [
    "merged_final.to_csv(r\"C:\\Users\\gargi\\Desktop\\Publication\\Transcriptomic_and_Epigenomic_Features\\cleaned_merged_gwas_diagram_annotations.csv\", index=False)\n",
    "print(f\"Merged data shape: {merged_final.shape}\")\n",
    "print(merged_final[['rsID', 'Consequence', 'IMPACT', 'P_VALUE']].head())"
   ]
  },
  {
   "cell_type": "markdown",
   "id": "8f1d9c19",
   "metadata": {},
   "source": [
    "## Filter High-Impact Functional Variants"
   ]
  },
  {
   "cell_type": "code",
   "execution_count": 16,
   "id": "f2ed1727",
   "metadata": {},
   "outputs": [
    {
     "name": "stdout",
     "output_type": "stream",
     "text": [
      "           rsID                              Consequence    IMPACT  \\\n",
      "2     rs1801282                         missense_variant  MODERATE   \n",
      "4     rs1801282  missense_variant,NMD_transcript_variant  MODERATE   \n",
      "6     rs1801282                         missense_variant  MODERATE   \n",
      "8     rs1801282                         missense_variant  MODERATE   \n",
      "33    rs1801214                         missense_variant  MODERATE   \n",
      "36    rs1801214                         missense_variant  MODERATE   \n",
      "39    rs1801214                         missense_variant  MODERATE   \n",
      "42    rs1801214                         missense_variant  MODERATE   \n",
      "44    rs1801214                         missense_variant  MODERATE   \n",
      "45    rs1801214                         missense_variant  MODERATE   \n",
      "54    rs1801214                         missense_variant  MODERATE   \n",
      "134  rs13266634                         missense_variant  MODERATE   \n",
      "136  rs13266634                         missense_variant  MODERATE   \n",
      "142  rs13266634                         missense_variant  MODERATE   \n",
      "\n",
      "          P_VALUE  \n",
      "2    5.000000e-09  \n",
      "4    5.000000e-09  \n",
      "6    5.000000e-09  \n",
      "8    5.000000e-09  \n",
      "33   1.300000e-08  \n",
      "36   1.300000e-08  \n",
      "39   1.300000e-08  \n",
      "42   1.300000e-08  \n",
      "44   1.300000e-08  \n",
      "45   1.300000e-08  \n",
      "54   1.300000e-08  \n",
      "134  2.200000e-11  \n",
      "136  2.200000e-11  \n",
      "142  2.200000e-11  \n"
     ]
    }
   ],
   "source": [
    "coding_terms = ['missense_variant', 'stop_gained', 'splice_acceptor_variant', 'splice_donor_variant']\n",
    "filtered_df = merged_final[merged_final['Consequence'].str.contains('|'.join(coding_terms), na=False)]\n",
    "print(filtered_df[['rsID', 'Consequence', 'IMPACT', 'P_VALUE']])\n"
   ]
  },
  {
   "cell_type": "markdown",
   "id": "b364de11",
   "metadata": {},
   "source": [
    "## Sort by GWAS Significance"
   ]
  },
  {
   "cell_type": "code",
   "execution_count": 17,
   "id": "46f0ea43",
   "metadata": {},
   "outputs": [
    {
     "name": "stdout",
     "output_type": "stream",
     "text": [
      "           rsID     Gene                              Consequence  \\\n",
      "134  rs13266634  SLC30A8                         missense_variant   \n",
      "136  rs13266634  SLC30A8                         missense_variant   \n",
      "142  rs13266634  SLC30A8                         missense_variant   \n",
      "2     rs1801282    PPARG                         missense_variant   \n",
      "4     rs1801282    PPARG  missense_variant,NMD_transcript_variant   \n",
      "6     rs1801282    PPARG                         missense_variant   \n",
      "8     rs1801282    PPARG                         missense_variant   \n",
      "33    rs1801214     WFS1                         missense_variant   \n",
      "36    rs1801214     WFS1                         missense_variant   \n",
      "39    rs1801214     WFS1                         missense_variant   \n",
      "\n",
      "          P_VALUE  \n",
      "134  2.200000e-11  \n",
      "136  2.200000e-11  \n",
      "142  2.200000e-11  \n",
      "2    5.000000e-09  \n",
      "4    5.000000e-09  \n",
      "6    5.000000e-09  \n",
      "8    5.000000e-09  \n",
      "33   1.300000e-08  \n",
      "36   1.300000e-08  \n",
      "39   1.300000e-08  \n"
     ]
    }
   ],
   "source": [
    "top_snps = filtered_df.sort_values(by=\"P_VALUE\", ascending=True).head(10)\n",
    "print(top_snps[['rsID', 'Gene', 'Consequence', 'P_VALUE']])\n"
   ]
  },
  {
   "cell_type": "markdown",
   "id": "0d5a6d5a",
   "metadata": {},
   "source": [
    "## Group by Genes"
   ]
  },
  {
   "cell_type": "code",
   "execution_count": 19,
   "id": "c1e56df9",
   "metadata": {},
   "outputs": [
    {
     "name": "stdout",
     "output_type": "stream",
     "text": [
      "WFS1       7\n",
      "PPARG      4\n",
      "SLC30A8    3\n",
      "Name: Gene, dtype: int64\n"
     ]
    }
   ],
   "source": [
    "gene_counts = filtered_df['Gene'].value_counts()\n",
    "print(gene_counts.head(10))\n"
   ]
  },
  {
   "cell_type": "markdown",
   "id": "30996291",
   "metadata": {},
   "source": [
    "## Export Filtered Set"
   ]
  },
  {
   "cell_type": "code",
   "execution_count": 20,
   "id": "014c859c",
   "metadata": {},
   "outputs": [],
   "source": [
    "filtered_df.to_csv(r\"C:\\Users\\gargi\\Desktop\\Publication\\Transcriptomic_and_Epigenomic_Features\\high_impact_variants.csv\", index=False)\n"
   ]
  }
 ],
 "metadata": {
  "kernelspec": {
   "display_name": "Python 3 (ipykernel)",
   "language": "python",
   "name": "python3"
  },
  "language_info": {
   "codemirror_mode": {
    "name": "ipython",
    "version": 3
   },
   "file_extension": ".py",
   "mimetype": "text/x-python",
   "name": "python",
   "nbconvert_exporter": "python",
   "pygments_lexer": "ipython3",
   "version": "3.10.9"
  }
 },
 "nbformat": 4,
 "nbformat_minor": 5
}
